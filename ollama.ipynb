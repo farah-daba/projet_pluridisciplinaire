{
 "cells": [
  {
   "cell_type": "code",
   "execution_count": 5,
   "metadata": {},
   "outputs": [
    {
     "data": {
      "text/markdown": [
       "\n",
       "## 🧳 Assistant de voyage intelligent – propulsé par Ollama (llama3)\n",
       "\n",
       "Bienvenue ! ✨  \n",
       "Décris ton projet de voyage : période, budget, envies, destinations rêvées, contraintes éventuelles…  \n",
       "Je suis là pour t’inspirer, t’orienter et répondre à toutes tes questions. Prêt à explorer ? 🌍\n"
      ],
      "text/plain": [
       "<IPython.core.display.Markdown object>"
      ]
     },
     "metadata": {},
     "output_type": "display_data"
    },
    {
     "data": {
      "application/vnd.jupyter.widget-view+json": {
       "model_id": "387f2fb622274e2dbc26e6e47202ed2d",
       "version_major": 2,
       "version_minor": 0
      },
      "text/plain": [
       "Output()"
      ]
     },
     "metadata": {},
     "output_type": "display_data"
    },
    {
     "data": {
      "application/vnd.jupyter.widget-view+json": {
       "model_id": "12f51682996e43c9ac00060ff7ac1e36",
       "version_major": 2,
       "version_minor": 0
      },
      "text/plain": [
       "Textarea(value='', layout=Layout(height='80px', width='100%'), placeholder='Parle-moi de ton futur voyage idéa…"
      ]
     },
     "metadata": {},
     "output_type": "display_data"
    },
    {
     "data": {
      "application/vnd.jupyter.widget-view+json": {
       "model_id": "b2dac47fd95648eb9a184d55a18028ed",
       "version_major": 2,
       "version_minor": 0
      },
      "text/plain": [
       "Button(button_style='primary', description='Envoyer 💬', style=ButtonStyle())"
      ]
     },
     "metadata": {},
     "output_type": "display_data"
    }
   ],
   "source": [
    "import json\n",
    "import requests\n",
    "import ipywidgets as widgets\n",
    "from IPython.display import display, Markdown, clear_output\n",
    "\n",
    "# 🧠 Historique conversationnel\n",
    "conversation = [\n",
    "    {\"role\": \"system\", \"content\": \"Tu es un assistant expert en voyages. Pose des questions si nécessaire, et fais des suggestions claires et adaptées.\"}\n",
    "]\n",
    "\n",
    "# 🧱 Interface utilisateur\n",
    "chat_box = widgets.Output()\n",
    "user_input = widgets.Textarea(\n",
    "    placeholder=\"Parle-moi de ton futur voyage idéal…\",\n",
    "    layout=widgets.Layout(width=\"100%\", height=\"80px\")\n",
    ")\n",
    "send_button = widgets.Button(description=\"Envoyer 💬\", button_style=\"primary\")\n",
    "\n",
    "# 📝 Message d’introduction\n",
    "display(Markdown(\"\"\"\n",
    "## 🧳 Assistant de voyage intelligent – propulsé par Ollama (llama3)\n",
    "\n",
    "Bienvenue ! ✨  \n",
    "Décris ton projet de voyage : période, budget, envies, destinations rêvées, contraintes éventuelles…  \n",
    "Je suis là pour t’inspirer, t’orienter et répondre à toutes tes questions. Prêt à explorer ? 🌍\n",
    "\"\"\"))\n",
    "\n",
    "# 📤 Fonction d’envoi\n",
    "def envoyer_message(b):\n",
    "    prompt = user_input.value.strip()\n",
    "    if not prompt:\n",
    "        return\n",
    "\n",
    "    user_input.value = \"\"  # Réinitialiser l'input\n",
    "    conversation.append({\"role\": \"user\", \"content\": prompt})\n",
    "    with chat_box:\n",
    "        display(Markdown(f\"**👤 Toi :** {prompt}\"))\n",
    "\n",
    "    # Formater l’historique pour Ollama\n",
    "    dialogue = \"\\n\".join(\n",
    "        [f\"{msg['role']}: {msg['content']}\" for msg in conversation[-10:]]\n",
    "    )\n",
    "\n",
    "    payload = {\n",
    "        \"model\": \"llama3\",\n",
    "        \"prompt\": dialogue,\n",
    "        \"temperature\": 0.7,\n",
    "        \"stream\": False\n",
    "    }\n",
    "\n",
    "    try:\n",
    "        with chat_box:\n",
    "            print(\"⏳ Ollama réfléchit...\")\n",
    "\n",
    "        # Envoi sans limite de temps\n",
    "        response = requests.post(\"http://localhost:11434/api/generate\", json=payload)\n",
    "        response.raise_for_status()\n",
    "        result = response.json()\n",
    "        answer = result[\"response\"]\n",
    "        conversation.append({\"role\": \"assistant\", \"content\": answer})\n",
    "\n",
    "        with chat_box:\n",
    "            clear_output(wait=True)\n",
    "            for msg in conversation[1:]:  # on saute le message système\n",
    "                role = \"👤 Toi\" if msg[\"role\"] == \"user\" else \"🤖 Ollama\"\n",
    "                display(Markdown(f\"**{role} :** {msg['content']}\"))\n",
    "\n",
    "    except Exception as e:\n",
    "        with chat_box:\n",
    "            display(Markdown(f\"❌ **Erreur :** {e}\"))\n",
    "\n",
    "# 🔁 Lier le bouton à la fonction\n",
    "send_button.on_click(envoyer_message)\n",
    "\n",
    "# 📋 Affichage de l’interface\n",
    "display(chat_box)\n",
    "display(user_input)\n",
    "display(send_button)"
   ]
  },
  {
   "cell_type": "markdown",
   "metadata": {},
   "source": [
    "## Recommandation générée\n",
    "\n",
    "What a great combination of interests! I'd be happy to suggest some destinations for a solo traveler like you in May, with a moderate budget, who loves culture, museums, and good food.\n",
    "\n",
    "Here are a few options:\n",
    "\n",
    "1. **Prague, Czech Republic**: Prague is an excellent choice for a solo traveler. The city has a rich cultural heritage, with numerous museums (e.g., the National Museum of Prague) and historical landmarks like Charles Bridge and St. Vitus Cathedral. You can enjoy traditional Czech cuisine like goulash, dumplings, and pastries at reasonable prices.\n",
    "\n",
    "Cost: Hostel dorms from €15/night (~ $17 USD), meals from €5-10 (~ $6-12 USD)\n",
    "\n",
    "2. **Barcelona, Spain**: Barcelona is a vibrant city with a wide range of cultural attractions (e.g., the Picasso Museum, the National Art Museum of Catalonia). You can stroll along La Rambla, visit Park Güell and Casa Batlló, and enjoy tapas and seafood at affordable prices.\n",
    "\n",
    "Cost: Hostel dorms from €20/night (~ $23 USD), meals from €10-15 (~ $12-18 USD)\n",
    "\n",
    "3. **Vienna, Austria**: Vienna is a city with a strong cultural heritage, featuring many museums (e.g., the Kunsthistorisches Museum, the Albertina). You can visit famous landmarks like St. Stephen's Cathedral and Schönbrunn Palace, and enjoy coffee culture and pastry shops.\n",
    "\n",
    "Cost: Hostel dorms from €25/night (~ $29 USD), meals from €15-20 (~ $18-24 USD)\n",
    "\n",
    "4. **Lisbon, Portugal**: Lisbon is a charming city with a rich cultural history. Visit the National Pantheon, the Castle of São Jorge, and the Museum of Modern Art. Enjoy traditional Portuguese cuisine like bacalhau à brás (cod fritters) and pastéis de nata (egg tarts).\n",
    "\n",
    "Cost: Hostel dorms from €15/night (~ $17 USD), meals from €10-15 (~ $12-18 USD)\n",
    "\n",
    "5. **Helsinki, Finland**: Helsinki is a unique blend of Nordic design and cultural heritage. Visit the National Museum of Finland, the Ateneum Art Museum, and the Temppeliaukio Church. Enjoy traditional Finnish cuisine like karjalanpiirakka (Karelian pasties) and salmiakki (salty licorice).\n",
    "\n",
    "Cost: Hostel dorms from €30/night (~ $35 USD), meals from €15-25 (~ $18-29 USD)\n",
    "\n",
    "These destinations offer a great balance of culture, museums, and good food, while being relatively affordable for solo travelers. May is a great time to visit these cities, as the weather is generally mild and there are many festivals and events taking place.\n",
    "\n",
    "Which one catches your eye?\n"
   ]
  },
  {
   "cell_type": "markdown",
   "metadata": {},
   "source": [
    "##Profil utilisateur\n",
    "\n",
    "On teste Ollama avec des profils utilisateurs différents pour voir la pertinence"
   ]
  },
  {
   "cell_type": "code",
   "execution_count": 2,
   "metadata": {},
   "outputs": [
    {
     "name": "stdout",
     "output_type": "stream",
     "text": [
      "Based on your preferences, I've curated three personalized travel recommendations for you:\n",
      "\n",
      "**Destination 1: Porto, Portugal**\n",
      "\n",
      "* Why it's a great fit: Porto is an affordable and charming city with a rich cultural heritage, perfect for solo travelers. The spring season (March to May) brings mild weather and fewer tourists, making it ideal for exploration.\n",
      "* Must-do activities:\n",
      "\t+ Visit the iconic Ribeira neighborhood, a UNESCO World Heritage Site, and stroll along the Douro River.\n",
      "\t+ Explore the Porto Museum of Art (Museu de Arte de Porto), which features an impressive collection of Portuguese art.\n",
      "\t+ Take a walking tour of the city's historic center and sample some of the famous Port wine at a local vineyard.\n",
      "* Budget-friendly tips:\n",
      "\t+ Stay in a budget-friendly hostel or Airbnb apartment, with prices starting from around €15-€25 per night.\n",
      "\t+ Enjoy traditional Porto cuisine like tripe soup and Francesinha sandwiches for under €5.\n",
      "\n",
      "**Destination 2: Krakow, Poland**\n",
      "\n",
      "* Why it's a great fit: Krakow is an affordable and culturally rich city that comes alive in the spring. The mild weather makes it perfect for exploring the city's many parks and gardens.\n",
      "* Must-do activities:\n",
      "\t+ Visit the majestic Wawel Castle and Cathedral, which houses the tombs of Polish kings and national heroes.\n",
      "\t+ Explore the vast complex of museums and galleries at the Krakow Historical Museum (Muzeum Historyczne Miasta Krakowa).\n",
      "\t+ Take a stroll through the picturesque Main Market Square (Rynek Główny) and sample some traditional Polish cuisine like pierogi or bigos.\n",
      "\n",
      "* Budget-friendly tips:\n",
      "\t+ Stay in a budget-friendly hostel or Airbnb apartment, with prices starting from around €10-€20 per night.\n",
      "\t+ Enjoy traditional Polish beer and snacks for under €5 at local bars and cafes.\n",
      "\n",
      "**Destination 3: Budapest, Hungary**\n",
      "\n",
      "* Why it's a great fit: Budapest is an affordable and beautiful city that thrives in the spring. The city comes alive with festivals and events, making it perfect for solo travelers.\n",
      "* Must-do activities:\n",
      "\t+ Explore the stunning Parliament Building (Országház) and take a guided tour of its impressive interior.\n",
      "\t+ Visit the Hungarian National Gallery (Magyar Nemzeti Galéria), which features an extensive collection of Hungarian art.\n",
      "\t+ Take a scenic walk along the Danube River and explore the picturesque streets of Pest and Buda.\n",
      "\n",
      "* Budget-friendly tips:\n",
      "\t+ Stay in a budget-friendly hostel or Airbnb apartment, with prices starting from around €15-€25 per night.\n",
      "\t+ Enjoy traditional Hungarian cuisine like goulash soup and langos for under €5 at local markets or food stalls.\n",
      "\n",
      "Each destination offers a unique blend of culture, history, and gastronomy that fits your preferences. Whether you prefer the romantic charm of Porto, the cultural richness of Krakow, or the scenic beauty of Budapest, these cities will provide an unforgettable experience on a budget-friendly scale.\n"
     ]
    }
   ],
   "source": [
    "def conseiller_voyage(profil_utilisateur):\n",
    "    prompt = f\"Voici le profil d’un utilisateur : {profil_utilisateur}. Donne-moi 3 destinations de voyage personnalisées, avec des suggestions d'activités et une justification pour chaque.\"\n",
    "    return get_recommendation_from_ollama(prompt)\n",
    "\n",
    "# Exemple de test :\n",
    "profil1 = \"Je cherche une destination de voyage pour une personne seule, avec un petit budget. Je préfère voyager au printemps. J’aime les musées, les balades en ville et la gastronomie locale.\"\n",
    "print(conseiller_voyage(profil1))\n"
   ]
  },
  {
   "cell_type": "markdown",
   "metadata": {},
   "source": [
    "## Recommandation avec profil utilisateur \n",
    "\n",
    "What a lovely profile! I've come up with three personalized travel recommendations that fit your preferences and budget. Here they are:\n",
    "\n",
    "**Destination 1: Porto, Portugal**\n",
    "\n",
    "Why: Porto is a charming city in northwest Portugal known for its rich cultural heritage, gastronomy, and stunning architecture. It's an excellent choice for solo travelers on a budget.\n",
    "\n",
    "* Must-see attractions:\n",
    "\t+ Ribeira neighborhood with colorful tiles and historic buildings\n",
    "\t+ Porto Cathedral (Sé do Porto)\n",
    "\t+ Museum of Contemporary Art (Museu de Arte Contemporânea de Porto)\n",
    "* Foodie highlights:\n",
    "\t+ Try traditional Porto-style coffee at Café Majestic or Café Santiago\n",
    "\t+ Sample the famous Port wine at a local winery or cellar\n",
    "\t+ Enjoy a delicious lunch at a Fado music club, like Casa da Música\n",
    "* Budget-friendly tips: Accommodation options range from budget-friendly guesthouses to affordable apartments. Take advantage of free walking tours and visit the city's many parks and gardens.\n",
    "\n",
    "**Destination 2: Budapest, Hungary**\n",
    "\n",
    "Why: This beautiful capital city is an excellent choice for solo travelers who love history, culture, and food. Spring is a lovely time to visit Budapest, with mild weather and fewer tourists than in the peak summer months.\n",
    "\n",
    "* Must-see attractions:\n",
    "\t+ Buda Castle complex (Várnegyed)\n",
    "\t+ Hungarian National Gallery (Magyar Nemzeti Galéria)\n",
    "\t+ St. Stephen's Basilica\n",
    "* Foodie highlights:\n",
    "...\n",
    "\t+ Explore the city's many tapas bars and enjoy some delicious small plates\n",
    "* Budget-friendly tips: Valencia has a range of accommodation options, from hostels to budget-friendly hotels. Take advantage of free walking tours and visit the city's many parks and gardens.\n",
    "\n",
    "Each of these destinations offers a unique blend of culture, history, and gastronomy, making them perfect for solo travelers on a budget who love exploring new places.\n",
    "Output is truncated. View as a scrollable element or open in a text editor. Adjust cell output settings..."
   ]
  },
  {
   "cell_type": "markdown",
   "metadata": {},
   "source": [
    "### PROMPT GUIDE (QUESTIONS)"
   ]
  },
  {
   "cell_type": "code",
   "execution_count": 1,
   "metadata": {},
   "outputs": [
    {
     "data": {
      "text/markdown": [
       "### ✈️ Génération de ta recommandation..."
      ],
      "text/plain": [
       "<IPython.core.display.Markdown object>"
      ]
     },
     "metadata": {},
     "output_type": "display_data"
    },
    {
     "data": {
      "text/markdown": [
       "### ✅ Recommandation générée par Ollama :"
      ],
      "text/plain": [
       "<IPython.core.display.Markdown object>"
      ]
     },
     "metadata": {},
     "output_type": "display_data"
    },
    {
     "data": {
      "text/markdown": [
       "```\n",
       "Merci pour le profil utilisateur ! Voici mes recommandations :\n",
       "\n",
       "**Destination :** Porto-Katsiki, Grèce (île de Lefkada)\n",
       "\n",
       "Porto-Katsiki est une plage paradisiaque située dans l'île de Lefkada, au nord de la Grèce. Cette destination répond à vos attentes en matière de plage, avec des eaux cristallines et un sable fin.\n",
       "\n",
       "**Itinéraire :**\n",
       "\n",
       "* Jour 1-2 : Arrivée à Athènes, puis déplacement vers Lefkada (environ 4 heures)\n",
       "* Jour 3-5 : Séjour à Porto-Katsiki pour profiter de la plage et des activités nautiques\n",
       "* Jour 6-7 : Exploration de l'île de Lefkada (activités en mer, découverte du village de Nidri, etc.)\n",
       "\n",
       "**Activités principales :**\n",
       "\n",
       "1. Plage et baignade : Porto-Katsiki est connue pour son plage magnifique et ses eaux calmes, parfaites pour la baignade.\n",
       "2. Excursions en mer : Les îles voisines (Kefalonia, Ithaque) offrent des opportunités d'excursions en mer pour découvrir les coves et les grottes sous-marines.\n",
       "3. Voile ou paddle-board : Les eaux cristallines de la baie de Lefkada sont idéales pour une pratique de voile ou de paddle-board.\n",
       "\n",
       "**Suggestions d'hébergement :**\n",
       "\n",
       "1. Hotel Porto-Katsiki Beach (4 étoiles) : Hôtel situé directement à proximité de la plage.\n",
       "2. Apartments at Nidri (3 étoiles) : Appartements familiaux situés dans le village de Nidri, avec une vue sur la baie.\n",
       "\n",
       "**Justification des choix :**\n",
       "\n",
       "Porto-Katsiki répond aux attentes en matière de plage et offre des activités nautiques variées. Lefkada est également un excellent choix pour les voyageurs qui cherchent à découvrir l'authenticité grecque, avec son village traditionnel et ses plages sauvages.\n",
       "\n",
       "**Options alternatives (budget/premium) :**\n",
       "\n",
       "* Pour les voyageurs à budget restreint : considérez des hébergements plus économiques à Nidri ou à Athènes, puis effectuez des excursions en mer pour découvrir Porto-Katsiki.\n",
       "* Pour les voyageurs souhaitant un hébergement premium : réservez une villa de luxe dans le village de Nidri ou sur la plage, avec vue panoramique sur la baie.\n",
       "\n",
       "J'espère que ces recommandations vous seront utiles !\n",
       "```"
      ],
      "text/plain": [
       "<IPython.core.display.Markdown object>"
      ]
     },
     "metadata": {},
     "output_type": "display_data"
    }
   ],
   "source": [
    "import json\n",
    "import requests\n",
    "import ipywidgets as widgets\n",
    "from IPython.display import display, Markdown, clear_output\n",
    "\n",
    "# État de la conversation\n",
    "history = []\n",
    "\n",
    "def send_prompt_to_llm(prompt):\n",
    "    payload = {\n",
    "        \"model\": \"llama3\",  # change si nécessaire\n",
    "        \"prompt\": prompt,\n",
    "        \"stream\": False\n",
    "    }\n",
    "    response = requests.post(\"http://localhost:11434/api/generate\", json=payload)\n",
    "    response.raise_for_status()\n",
    "    return response.json()[\"response\"]\n",
    "\n",
    "# Interface de démarrage\n",
    "display(Markdown(\"### 👋 Bienvenue dans l'assistant de voyage intelligent (Ollama) !\"))\n",
    "display(Markdown(\"Je vais te poser quelques questions pour mieux cerner tes envies de voyage 🌍\"))\n",
    "\n",
    "# Widgets initiaux\n",
    "destination = widgets.Text(placeholder=\"ex : plage, montagne...\", description=\"\")\n",
    "budget = widgets.Text(placeholder=\"ex : faible, 500€, moyen...\", description=\"\")\n",
    "dates = widgets.Text(placeholder=\"ex : du 15 au 22 juillet\", description=\"\")\n",
    "interets = widgets.Text(placeholder=\"ex : randonnée, musées...\", description=\"\")\n",
    "hebergement = widgets.Text(placeholder=\"ex : hôtel, auberge...\", description=\"\")\n",
    "compagnie = widgets.Text(placeholder=\"ex : seul, couple, famille...\", description=\"\")\n",
    "contraintes = widgets.Text(placeholder=\"ex : animaux, enfants...\", description=\"\")\n",
    "\n",
    "display(Markdown(\"**1. Quel type de destination préfères-tu ?**\"))\n",
    "display(destination)\n",
    "display(Markdown(\"**2. Quel est ton budget approximatif ?**\"))\n",
    "display(budget)\n",
    "display(Markdown(\"**3. À quelles dates veux-tu partir ?**\"))\n",
    "display(dates)\n",
    "display(Markdown(\"**4. Quelles activités t’intéressent ?**\"))\n",
    "display(interets)\n",
    "display(Markdown(\"**5. Quel type d’hébergement préfères-tu ?**\"))\n",
    "display(hebergement)\n",
    "display(Markdown(\"**6. Avec qui voyages-tu ?**\"))\n",
    "display(compagnie)\n",
    "display(Markdown(\"**7. As-tu des contraintes particulières ?**\"))\n",
    "display(contraintes)\n",
    "\n",
    "# Bouton de génération\n",
    "bouton = widgets.Button(description=\"✨ Générer ma recommandation ✈️\")\n",
    "\n",
    "# Zone pour la conversation continue\n",
    "chat_input = widgets.Text(placeholder=\"Pose une question ou demande un détail...\", description=\"Toi :\")\n",
    "send_button = widgets.Button(description=\"Envoyer 💬\")\n",
    "output_box = widgets.Output()\n",
    "\n",
    "def generate_first_response(b):\n",
    "    clear_output(wait=True)\n",
    "    display(Markdown(\"### ✈️ Génération de ta recommandation...\"))\n",
    "    \n",
    "    profil = f\"\"\"\n",
    "    Type de destination : {destination.value}\n",
    "    Budget : {budget.value}\n",
    "    Dates : {dates.value}\n",
    "    Centres d’intérêt : {interets.value}\n",
    "    Hébergement souhaité : {hebergement.value}\n",
    "    Compagnie : {compagnie.value}\n",
    "    Contraintes : {contraintes.value}\n",
    "    \"\"\"\n",
    "\n",
    "    prompt = f\"\"\"\n",
    "Voici un profil utilisateur :\n",
    "{profil}\n",
    "\n",
    "Tu dois recommander :\n",
    "- une destination\n",
    "- un itinéraire (si possible)\n",
    "- 2 ou 3 activités principales\n",
    "- des suggestions d’hébergement\n",
    "- une justification de tes choix\n",
    "- des options alternatives (budget/premium) si pertinent\n",
    "\n",
    "Réponds en français.\n",
    "\"\"\"\n",
    "    history.append({\"role\": \"user\", \"content\": prompt})\n",
    "    try:\n",
    "        result = send_prompt_to_llm(prompt)\n",
    "        history.append({\"role\": \"assistant\", \"content\": result})\n",
    "        display(Markdown(\"### ✅ Recommandation générée par Ollama :\"))\n",
    "        display(Markdown(f\"```\\n{result}\\n```\"))\n",
    "        display(chat_input)\n",
    "        display(send_button)\n",
    "        display(output_box)\n",
    "    except Exception as e:\n",
    "        display(Markdown(\"❌ **Erreur lors de l'appel à Ollama :**\"))\n",
    "        print(e)\n",
    "\n",
    "def continue_chat(b):\n",
    "    user_input = chat_input.value.strip()\n",
    "    if not user_input:\n",
    "        return\n",
    "    chat_input.value = \"\"\n",
    "\n",
    "    output_box.clear_output(wait=True)\n",
    "    with output_box:\n",
    "        display(Markdown(f\"**Toi :** {user_input}\"))\n",
    "\n",
    "    # Ajouter le message à l'historique\n",
    "    history.append({\"role\": \"user\", \"content\": user_input})\n",
    "    \n",
    "    # Construire l'historique comme un prompt simple\n",
    "    full_prompt = \"\\n\\n\".join([f\"{h['role']}: {h['content']}\" for h in history])\n",
    "    \n",
    "    try:\n",
    "        response = send_prompt_to_llm(full_prompt)\n",
    "        history.append({\"role\": \"assistant\", \"content\": response})\n",
    "        with output_box:\n",
    "            display(Markdown(f\"**Assistant :** {response}\"))\n",
    "    except Exception as e:\n",
    "        with output_box:\n",
    "            display(Markdown(\"❌ **Erreur lors de l'appel à Ollama :**\"))\n",
    "            print(e)\n",
    "\n",
    "# Associer les actions\n",
    "bouton.on_click(generate_first_response)\n",
    "send_button.on_click(continue_chat)\n",
    "\n",
    "# Afficher le bouton initial\n",
    "display(bouton)"
   ]
  }
 ],
 "metadata": {
  "kernelspec": {
   "display_name": "Python 3",
   "language": "python",
   "name": "python3"
  },
  "language_info": {
   "codemirror_mode": {
    "name": "ipython",
    "version": 3
   },
   "file_extension": ".py",
   "mimetype": "text/x-python",
   "name": "python",
   "nbconvert_exporter": "python",
   "pygments_lexer": "ipython3",
   "version": "3.13.0"
  }
 },
 "nbformat": 4,
 "nbformat_minor": 2
}
