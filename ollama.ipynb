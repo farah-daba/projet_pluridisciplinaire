{
 "cells": [
  {
   "cell_type": "code",
   "execution_count": 2,
   "metadata": {},
   "outputs": [
    {
     "name": "stdout",
     "output_type": "stream",
     "text": [
      "A traveler looking for a cultural experience with good food and museums on a moderate budget! I've got some great suggestions for you:\n",
      "\n",
      "1. **Prague, Czech Republic**: Prague is an ideal destination for solo travelers. The city has a rich cultural heritage, with many museums like the National Museum of Czech Republic and the Jewish Museum. Enjoy traditional Czech cuisine like goulash, dumplings, and beer at one of the many affordable restaurants.\n",
      "2. **Lisbon, Portugal**: Lisbon is a charming city with a vibrant cultural scene. Visit the Calouste Gulbenkian Museum, which features an impressive collection of art and artifacts from around the world. Savor traditional Portuguese dishes like bacalhau à brás (cod with potatoes and onions) at one of the many affordable eateries.\n",
      "3. **Barcelona, Spain**: Barcelona is a cultural hub with plenty of museums to explore, such as the Picasso Museum and the National Art Museum of Catalonia. Enjoy tapas and local cuisine at La Boqueria Market or try some delicious paella at a mid-range restaurant.\n",
      "4. **Vienna, Austria**: Vienna is a city steeped in culture and history. Visit the Kunsthistorisches Museum (Museum of Fine Arts), which features an impressive collection of art from around the world. Indulge in traditional Austrian cuisine like Wiener Schnitzel and apple strudel at one of the many cozy cafes or restaurants.\n",
      "5. **Krakow, Poland**: Krakow is a beautiful city with a rich cultural heritage. Visit the National Museum of Poland, which features an impressive collection of art and artifacts from Polish history. Enjoy traditional Polish cuisine like pierogi (dumplings) and bigos (hunter's stew) at one of the many affordable restaurants.\n",
      "6. **Stockholm, Sweden**: Stockholm is a design lover's paradise with many museums to explore, such as the Vasa Museum and the Moderna Museum. Enjoy traditional Swedish cuisine like meatballs and gravlax at one of the many cozy restaurants or cafes.\n",
      "\n",
      "All of these destinations are relatively affordable for solo travelers on a moderate budget:\n",
      "\n",
      "* Hostels: €15-€30 per night (around $17-$34 USD)\n",
      "* Budget restaurants: €10-€20 per meal (around $11-$22 USD)\n",
      "* Museum tickets: €5-€15 per person (around $6-$17 USD)\n",
      "\n",
      "May is a great time to visit these destinations, with mild weather and fewer tourists than the peak summer months. Have a wonderful trip!\n"
     ]
    }
   ],
   "source": [
    "import requests\n",
    "\n",
    "def get_recommendation_from_ollama(prompt, model=\"llama3\"):\n",
    "    url = \"http://localhost:11434/api/generate\"\n",
    "    payload = {\n",
    "        \"model\": model,\n",
    "        \"prompt\": prompt,\n",
    "        \"stream\": False\n",
    "    }\n",
    "\n",
    "    response = requests.post(url, json=payload)\n",
    "    response.raise_for_status()\n",
    "\n",
    "    return response.json()['response']\n",
    "\n",
    "# Exemple de prompt\n",
    "prompt = \"\"\"Je cherche une destination de voyage pour une personne seule en mai,\n",
    "avec un budget moyen, qui aime la culture, les musées et la bonne nourriture.\"\"\"\n",
    "\n",
    "# Appel à Ollama local\n",
    "reponse = get_recommendation_from_ollama(prompt)\n",
    "print(reponse)\n"
   ]
  },
  {
   "cell_type": "markdown",
   "metadata": {},
   "source": [
    "##Profil utilisateur\n",
    "\n",
    "On teste Ollama avec des profils utilisateurs différents pour voir la pertinence"
   ]
  },
  {
   "cell_type": "code",
   "execution_count": 2,
   "metadata": {},
   "outputs": [
    {
     "name": "stdout",
     "output_type": "stream",
     "text": [
      "What a lovely profile! I've come up with three personalized travel recommendations that fit your preferences and budget. Here they are:\n",
      "\n",
      "**Destination 1: Porto, Portugal**\n",
      "\n",
      "Why: Porto is a charming city in northwest Portugal known for its rich cultural heritage, gastronomy, and stunning architecture. It's an excellent choice for solo travelers on a budget.\n",
      "\n",
      "* Must-see attractions:\n",
      "\t+ Ribeira neighborhood with colorful tiles and historic buildings\n",
      "\t+ Porto Cathedral (Sé do Porto)\n",
      "\t+ Museum of Contemporary Art (Museu de Arte Contemporânea de Porto)\n",
      "* Foodie highlights:\n",
      "\t+ Try traditional Porto-style coffee at Café Majestic or Café Santiago\n",
      "\t+ Sample the famous Port wine at a local winery or cellar\n",
      "\t+ Enjoy a delicious lunch at a Fado music club, like Casa da Música\n",
      "* Budget-friendly tips: Accommodation options range from budget-friendly guesthouses to affordable apartments. Take advantage of free walking tours and visit the city's many parks and gardens.\n",
      "\n",
      "**Destination 2: Budapest, Hungary**\n",
      "\n",
      "Why: This beautiful capital city is an excellent choice for solo travelers who love history, culture, and food. Spring is a lovely time to visit Budapest, with mild weather and fewer tourists than in the peak summer months.\n",
      "\n",
      "* Must-see attractions:\n",
      "\t+ Buda Castle complex (Várnegyed)\n",
      "\t+ Hungarian National Gallery (Magyar Nemzeti Galéria)\n",
      "\t+ St. Stephen's Basilica\n",
      "* Foodie highlights:\n",
      "\t+ Try traditional Hungarian cuisine at a local restaurant, like Goulash or Paprika\n",
      "\t+ Visit the famous Szimpla ruin bar for a unique drinking experience\n",
      "\t+ Sample some delicious pastries and coffee at a charming café\n",
      "* Budget-friendly tips: Budapest has plenty of affordable accommodation options, including hostels and guesthouses. Take advantage of free walking tours and visit the city's many thermal baths.\n",
      "\n",
      "**Destination 3: Valencia, Spain**\n",
      "\n",
      "Why: Valencia is a hidden gem on Spain's eastern coast, known for its stunning architecture, beautiful parks, and delicious local cuisine. Spring is an excellent time to visit, with mild weather and fewer tourists than in the summer.\n",
      "\n",
      "* Must-see attractions:\n",
      "\t+ City of Arts and Sciences (Ciutat de les Arts i les Ciències)\n",
      "\t+ Central Market (Mercado Central)\n",
      "\t+ Turia Gardens (Jardines del Turia)\n",
      "* Foodie highlights:\n",
      "\t+ Try traditional Valencian cuisine at a local restaurant, like Paella or Fideuà\n",
      "\t+ Visit the famous Horchata and fartons (sweet pastries) shops\n",
      "\t+ Explore the city's many tapas bars and enjoy some delicious small plates\n",
      "* Budget-friendly tips: Valencia has a range of accommodation options, from hostels to budget-friendly hotels. Take advantage of free walking tours and visit the city's many parks and gardens.\n",
      "\n",
      "Each of these destinations offers a unique blend of culture, history, and gastronomy, making them perfect for solo travelers on a budget who love exploring new places.\n"
     ]
    }
   ],
   "source": [
    "def conseiller_voyage(profil_utilisateur):\n",
    "    prompt = f\"Voici le profil d’un utilisateur : {profil_utilisateur}. Donne-moi 3 destinations de voyage personnalisées, avec des suggestions d'activités et une justification pour chaque.\"\n",
    "    return get_recommendation_from_ollama(prompt)\n",
    "\n",
    "# Exemple de test :\n",
    "profil1 = \"Je cherche une destination de voyage pour une personne seule, avec un petit budget. Je préfère voyager au printemps. J’aime les musées, les balades en ville et la gastronomie locale.\"\n",
    "print(conseiller_voyage(profil1))\n"
   ]
  }
 ],
 "metadata": {
  "kernelspec": {
   "display_name": "Python 3",
   "language": "python",
   "name": "python3"
  },
  "language_info": {
   "codemirror_mode": {
    "name": "ipython",
    "version": 3
   },
   "file_extension": ".py",
   "mimetype": "text/x-python",
   "name": "python",
   "nbconvert_exporter": "python",
   "pygments_lexer": "ipython3",
   "version": "3.13.0"
  }
 },
 "nbformat": 4,
 "nbformat_minor": 2
}
