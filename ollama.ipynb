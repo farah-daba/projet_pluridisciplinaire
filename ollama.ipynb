{
 "cells": [
  {
   "cell_type": "code",
   "execution_count": 1,
   "metadata": {},
   "outputs": [
    {
     "name": "stdout",
     "output_type": "stream",
     "text": [
      "What a great question!\n",
      "\n",
      "Considering your preferences and budget, here are some fantastic destinations for a solo traveler in May:\n",
      "\n",
      "1. **Florence, Italy**: Florence is a treasure trove of art, history, and delicious food. Enjoy the Uffizi Gallery, Accademia Gallery (to see Michelangelo's David), and Santa Croce church. Savor Italian cuisine at local trattorias and try some of the best gelato in the world.\n",
      "\t* Budget: €40-€60 per day (~ $45-$67 USD)\n",
      "2. **Barcelona, Spain**: Discover Gaudí's iconic Sagrada Família, Park Güell, and Casa Batlló. Visit the Picasso Museum and stroll along La Rambla, a famous pedestrian street. Don't miss the stunning beaches and seafood paella.\n",
      "\t* Budget: €30-€50 per day (~ $33-$55 USD)\n",
      "3. **Amsterdam, Netherlands**: Explore the Rijksmuseum, Van Gogh Museum, and Anne Frank House. Admire the city's charming canals, bridges, and flower markets. Enjoy a Heineken beer or try some local cheese.\n",
      "\t* Budget: €25-€40 per day (~ $28-$45 USD)\n",
      "4. **Prague, Czech Republic**: Visit the Charles Bridge, St. Vitus Cathedral, and Prague Castle. Marvel at the unique architecture and rich history. Don't miss the traditional Czech cuisine, such as goulash and schnitzel.\n",
      "\t* Budget: €20-€35 per day (~ $22-$39 USD)\n",
      "5. **Vienna, Austria**: Discover the grand palaces, opera houses, and museums like the Kunsthistorisches Museum (Art History Museum). Enjoy coffee culture at a traditional café and sample delicious pastries.\n",
      "\t* Budget: €25-€40 per day (~ $28-$45 USD)\n",
      "\n",
      "All of these destinations offer a range of accommodations to fit your budget, from hostels to mid-range hotels. Consider booking a room with a shared bathroom or a hostel dormitory for a more affordable option.\n",
      "\n",
      "May is generally a great time to visit these cities, as the weather is mild and there are fewer tourists than during the peak summer months.\n",
      "\n",
      "Which destination resonates with you?\n"
     ]
    }
   ],
   "source": [
    "import requests\n",
    "\n",
    "def get_recommendation_from_ollama(prompt, model=\"llama3\"):\n",
    "    url = \"http://localhost:11434/api/generate\"\n",
    "    payload = {\n",
    "        \"model\": model,\n",
    "        \"prompt\": prompt,\n",
    "        \"stream\": False\n",
    "    }\n",
    "\n",
    "    response = requests.post(url, json=payload)\n",
    "    response.raise_for_status()\n",
    "\n",
    "    return response.json()['response']\n",
    "\n",
    "# Exemple de prompt\n",
    "prompt = \"\"\"Je cherche une destination de voyage pour une personne seule en mai,\n",
    "avec un budget moyen, qui aime la culture, les musées et la bonne nourriture.\"\"\"\n",
    "\n",
    "# Appel à Ollama local\n",
    "reponse = get_recommendation_from_ollama(prompt)\n",
    "print(reponse)\n"
   ]
  },
  {
   "cell_type": "markdown",
   "metadata": {},
   "source": [
    "## Recommandation générée\n",
    "\n",
    "What a great combination of interests! I'd be happy to suggest some destinations for a solo traveler like you in May, with a moderate budget, who loves culture, museums, and good food.\n",
    "\n",
    "Here are a few options:\n",
    "\n",
    "1. **Prague, Czech Republic**: Prague is an excellent choice for a solo traveler. The city has a rich cultural heritage, with numerous museums (e.g., the National Museum of Prague) and historical landmarks like Charles Bridge and St. Vitus Cathedral. You can enjoy traditional Czech cuisine like goulash, dumplings, and pastries at reasonable prices.\n",
    "\n",
    "Cost: Hostel dorms from €15/night (~ $17 USD), meals from €5-10 (~ $6-12 USD)\n",
    "\n",
    "2. **Barcelona, Spain**: Barcelona is a vibrant city with a wide range of cultural attractions (e.g., the Picasso Museum, the National Art Museum of Catalonia). You can stroll along La Rambla, visit Park Güell and Casa Batlló, and enjoy tapas and seafood at affordable prices.\n",
    "\n",
    "Cost: Hostel dorms from €20/night (~ $23 USD), meals from €10-15 (~ $12-18 USD)\n",
    "\n",
    "3. **Vienna, Austria**: Vienna is a city with a strong cultural heritage, featuring many museums (e.g., the Kunsthistorisches Museum, the Albertina). You can visit famous landmarks like St. Stephen's Cathedral and Schönbrunn Palace, and enjoy coffee culture and pastry shops.\n",
    "\n",
    "Cost: Hostel dorms from €25/night (~ $29 USD), meals from €15-20 (~ $18-24 USD)\n",
    "\n",
    "4. **Lisbon, Portugal**: Lisbon is a charming city with a rich cultural history. Visit the National Pantheon, the Castle of São Jorge, and the Museum of Modern Art. Enjoy traditional Portuguese cuisine like bacalhau à brás (cod fritters) and pastéis de nata (egg tarts).\n",
    "\n",
    "Cost: Hostel dorms from €15/night (~ $17 USD), meals from €10-15 (~ $12-18 USD)\n",
    "\n",
    "5. **Helsinki, Finland**: Helsinki is a unique blend of Nordic design and cultural heritage. Visit the National Museum of Finland, the Ateneum Art Museum, and the Temppeliaukio Church. Enjoy traditional Finnish cuisine like karjalanpiirakka (Karelian pasties) and salmiakki (salty licorice).\n",
    "\n",
    "Cost: Hostel dorms from €30/night (~ $35 USD), meals from €15-25 (~ $18-29 USD)\n",
    "\n",
    "These destinations offer a great balance of culture, museums, and good food, while being relatively affordable for solo travelers. May is a great time to visit these cities, as the weather is generally mild and there are many festivals and events taking place.\n",
    "\n",
    "Which one catches your eye?\n"
   ]
  },
  {
   "cell_type": "markdown",
   "metadata": {},
   "source": [
    "##Profil utilisateur\n",
    "\n",
    "On teste Ollama avec des profils utilisateurs différents pour voir la pertinence"
   ]
  },
  {
   "cell_type": "code",
   "execution_count": 2,
   "metadata": {},
   "outputs": [
    {
     "name": "stdout",
     "output_type": "stream",
     "text": [
      "Based on your preferences, I've curated three personalized travel recommendations for you:\n",
      "\n",
      "**Destination 1: Porto, Portugal**\n",
      "\n",
      "* Why it's a great fit: Porto is an affordable and charming city with a rich cultural heritage, perfect for solo travelers. The spring season (March to May) brings mild weather and fewer tourists, making it ideal for exploration.\n",
      "* Must-do activities:\n",
      "\t+ Visit the iconic Ribeira neighborhood, a UNESCO World Heritage Site, and stroll along the Douro River.\n",
      "\t+ Explore the Porto Museum of Art (Museu de Arte de Porto), which features an impressive collection of Portuguese art.\n",
      "\t+ Take a walking tour of the city's historic center and sample some of the famous Port wine at a local vineyard.\n",
      "* Budget-friendly tips:\n",
      "\t+ Stay in a budget-friendly hostel or Airbnb apartment, with prices starting from around €15-€25 per night.\n",
      "\t+ Enjoy traditional Porto cuisine like tripe soup and Francesinha sandwiches for under €5.\n",
      "\n",
      "**Destination 2: Krakow, Poland**\n",
      "\n",
      "* Why it's a great fit: Krakow is an affordable and culturally rich city that comes alive in the spring. The mild weather makes it perfect for exploring the city's many parks and gardens.\n",
      "* Must-do activities:\n",
      "\t+ Visit the majestic Wawel Castle and Cathedral, which houses the tombs of Polish kings and national heroes.\n",
      "\t+ Explore the vast complex of museums and galleries at the Krakow Historical Museum (Muzeum Historyczne Miasta Krakowa).\n",
      "\t+ Take a stroll through the picturesque Main Market Square (Rynek Główny) and sample some traditional Polish cuisine like pierogi or bigos.\n",
      "\n",
      "* Budget-friendly tips:\n",
      "\t+ Stay in a budget-friendly hostel or Airbnb apartment, with prices starting from around €10-€20 per night.\n",
      "\t+ Enjoy traditional Polish beer and snacks for under €5 at local bars and cafes.\n",
      "\n",
      "**Destination 3: Budapest, Hungary**\n",
      "\n",
      "* Why it's a great fit: Budapest is an affordable and beautiful city that thrives in the spring. The city comes alive with festivals and events, making it perfect for solo travelers.\n",
      "* Must-do activities:\n",
      "\t+ Explore the stunning Parliament Building (Országház) and take a guided tour of its impressive interior.\n",
      "\t+ Visit the Hungarian National Gallery (Magyar Nemzeti Galéria), which features an extensive collection of Hungarian art.\n",
      "\t+ Take a scenic walk along the Danube River and explore the picturesque streets of Pest and Buda.\n",
      "\n",
      "* Budget-friendly tips:\n",
      "\t+ Stay in a budget-friendly hostel or Airbnb apartment, with prices starting from around €15-€25 per night.\n",
      "\t+ Enjoy traditional Hungarian cuisine like goulash soup and langos for under €5 at local markets or food stalls.\n",
      "\n",
      "Each destination offers a unique blend of culture, history, and gastronomy that fits your preferences. Whether you prefer the romantic charm of Porto, the cultural richness of Krakow, or the scenic beauty of Budapest, these cities will provide an unforgettable experience on a budget-friendly scale.\n"
     ]
    }
   ],
   "source": [
    "def conseiller_voyage(profil_utilisateur):\n",
    "    prompt = f\"Voici le profil d’un utilisateur : {profil_utilisateur}. Donne-moi 3 destinations de voyage personnalisées, avec des suggestions d'activités et une justification pour chaque.\"\n",
    "    return get_recommendation_from_ollama(prompt)\n",
    "\n",
    "# Exemple de test :\n",
    "profil1 = \"Je cherche une destination de voyage pour une personne seule, avec un petit budget. Je préfère voyager au printemps. J’aime les musées, les balades en ville et la gastronomie locale.\"\n",
    "print(conseiller_voyage(profil1))\n"
   ]
  },
  {
   "cell_type": "markdown",
   "metadata": {},
   "source": [
    "## Recommandation avec profil utilisateur \n",
    "\n",
    "What a lovely profile! I've come up with three personalized travel recommendations that fit your preferences and budget. Here they are:\n",
    "\n",
    "**Destination 1: Porto, Portugal**\n",
    "\n",
    "Why: Porto is a charming city in northwest Portugal known for its rich cultural heritage, gastronomy, and stunning architecture. It's an excellent choice for solo travelers on a budget.\n",
    "\n",
    "* Must-see attractions:\n",
    "\t+ Ribeira neighborhood with colorful tiles and historic buildings\n",
    "\t+ Porto Cathedral (Sé do Porto)\n",
    "\t+ Museum of Contemporary Art (Museu de Arte Contemporânea de Porto)\n",
    "* Foodie highlights:\n",
    "\t+ Try traditional Porto-style coffee at Café Majestic or Café Santiago\n",
    "\t+ Sample the famous Port wine at a local winery or cellar\n",
    "\t+ Enjoy a delicious lunch at a Fado music club, like Casa da Música\n",
    "* Budget-friendly tips: Accommodation options range from budget-friendly guesthouses to affordable apartments. Take advantage of free walking tours and visit the city's many parks and gardens.\n",
    "\n",
    "**Destination 2: Budapest, Hungary**\n",
    "\n",
    "Why: This beautiful capital city is an excellent choice for solo travelers who love history, culture, and food. Spring is a lovely time to visit Budapest, with mild weather and fewer tourists than in the peak summer months.\n",
    "\n",
    "* Must-see attractions:\n",
    "\t+ Buda Castle complex (Várnegyed)\n",
    "\t+ Hungarian National Gallery (Magyar Nemzeti Galéria)\n",
    "\t+ St. Stephen's Basilica\n",
    "* Foodie highlights:\n",
    "...\n",
    "\t+ Explore the city's many tapas bars and enjoy some delicious small plates\n",
    "* Budget-friendly tips: Valencia has a range of accommodation options, from hostels to budget-friendly hotels. Take advantage of free walking tours and visit the city's many parks and gardens.\n",
    "\n",
    "Each of these destinations offers a unique blend of culture, history, and gastronomy, making them perfect for solo travelers on a budget who love exploring new places.\n",
    "Output is truncated. View as a scrollable element or open in a text editor. Adjust cell output settings..."
   ]
  },
  {
   "cell_type": "markdown",
   "metadata": {},
   "source": [
    "### PROMPT GUIDE (QUESTIONS)"
   ]
  },
  {
   "cell_type": "code",
   "execution_count": 5,
   "metadata": {},
   "outputs": [
    {
     "data": {
      "text/markdown": [
       "### 👋 Bienvenue dans l'assistant de voyage intelligent (Ollama) !"
      ],
      "text/plain": [
       "<IPython.core.display.Markdown object>"
      ]
     },
     "metadata": {},
     "output_type": "display_data"
    },
    {
     "data": {
      "text/markdown": [
       "Je vais te poser quelques questions pour mieux cerner tes envies de voyage 🌍"
      ],
      "text/plain": [
       "<IPython.core.display.Markdown object>"
      ]
     },
     "metadata": {},
     "output_type": "display_data"
    },
    {
     "data": {
      "text/markdown": [
       "**1. Quel type de destination préfères-tu ?** *(plage, montagne, ville, campagne...)*"
      ],
      "text/plain": [
       "<IPython.core.display.Markdown object>"
      ]
     },
     "metadata": {},
     "output_type": "display_data"
    },
    {
     "data": {
      "application/vnd.jupyter.widget-view+json": {
       "model_id": "516c8a58ebc246a3bcd18bd8cc6e928e",
       "version_major": 2,
       "version_minor": 0
      },
      "text/plain": [
       "Text(value='', placeholder='ex : plage, montagne, ville...')"
      ]
     },
     "metadata": {},
     "output_type": "display_data"
    },
    {
     "data": {
      "text/markdown": [
       "**2. Quel est ton budget approximatif ?** *(faible, moyen, élevé, ou un montant)*"
      ],
      "text/plain": [
       "<IPython.core.display.Markdown object>"
      ]
     },
     "metadata": {},
     "output_type": "display_data"
    },
    {
     "data": {
      "application/vnd.jupyter.widget-view+json": {
       "model_id": "e309c4819d494f9b9e87815e0904c093",
       "version_major": 2,
       "version_minor": 0
      },
      "text/plain": [
       "Text(value='', placeholder='ex : faible, 500€, moyen...')"
      ]
     },
     "metadata": {},
     "output_type": "display_data"
    },
    {
     "data": {
      "text/markdown": [
       "**3. À quelles dates veux-tu partir ?**"
      ],
      "text/plain": [
       "<IPython.core.display.Markdown object>"
      ]
     },
     "metadata": {},
     "output_type": "display_data"
    },
    {
     "data": {
      "application/vnd.jupyter.widget-view+json": {
       "model_id": "649bbadc58c34f04a69bc846f589720f",
       "version_major": 2,
       "version_minor": 0
      },
      "text/plain": [
       "Text(value='', placeholder='ex : du 15 au 22 juillet')"
      ]
     },
     "metadata": {},
     "output_type": "display_data"
    },
    {
     "data": {
      "text/markdown": [
       "**4. Quelles activités t’intéressent ?** *(randonnée, culture, détente...)*"
      ],
      "text/plain": [
       "<IPython.core.display.Markdown object>"
      ]
     },
     "metadata": {},
     "output_type": "display_data"
    },
    {
     "data": {
      "application/vnd.jupyter.widget-view+json": {
       "model_id": "5281fa9a7efb4b93b29b7e21be91c8dd",
       "version_major": 2,
       "version_minor": 0
      },
      "text/plain": [
       "Text(value='', placeholder='ex : randonnée, musées, gastronomie...')"
      ]
     },
     "metadata": {},
     "output_type": "display_data"
    },
    {
     "data": {
      "text/markdown": [
       "**5. Quel type d’hébergement préfères-tu ?**"
      ],
      "text/plain": [
       "<IPython.core.display.Markdown object>"
      ]
     },
     "metadata": {},
     "output_type": "display_data"
    },
    {
     "data": {
      "application/vnd.jupyter.widget-view+json": {
       "model_id": "4e0a8193258c4e87b7bbc2bd77b71af1",
       "version_major": 2,
       "version_minor": 0
      },
      "text/plain": [
       "Text(value='', placeholder='ex : hôtel, auberge, logement insolite...')"
      ]
     },
     "metadata": {},
     "output_type": "display_data"
    },
    {
     "data": {
      "text/markdown": [
       "**6. Avec qui voyages-tu ?** *(seul, en couple, en famille, entre amis...)*"
      ],
      "text/plain": [
       "<IPython.core.display.Markdown object>"
      ]
     },
     "metadata": {},
     "output_type": "display_data"
    },
    {
     "data": {
      "application/vnd.jupyter.widget-view+json": {
       "model_id": "894a1c23d5024e7caccac9fad61d2580",
       "version_major": 2,
       "version_minor": 0
      },
      "text/plain": [
       "Text(value='', placeholder='ex : seul, en couple, en famille...')"
      ]
     },
     "metadata": {},
     "output_type": "display_data"
    },
    {
     "data": {
      "text/markdown": [
       "**7. As-tu des contraintes particulières ?** *(enfants, animaux, santé...)*"
      ],
      "text/plain": [
       "<IPython.core.display.Markdown object>"
      ]
     },
     "metadata": {},
     "output_type": "display_data"
    },
    {
     "data": {
      "application/vnd.jupyter.widget-view+json": {
       "model_id": "c29a1d1e4a024a79b0d4357c677f39f8",
       "version_major": 2,
       "version_minor": 0
      },
      "text/plain": [
       "Text(value='', placeholder='ex : animaux, enfants, mobilité réduite...')"
      ]
     },
     "metadata": {},
     "output_type": "display_data"
    },
    {
     "data": {
      "application/vnd.jupyter.widget-view+json": {
       "model_id": "a2b1db74b9034534952cdea66d22f21e",
       "version_major": 2,
       "version_minor": 0
      },
      "text/plain": [
       "Button(description='✨ Générer ma recommandation (Ollama) ✈️', style=ButtonStyle())"
      ]
     },
     "metadata": {},
     "output_type": "display_data"
    }
   ],
   "source": [
    "import json\n",
    "import requests\n",
    "import ipywidgets as widgets\n",
    "from IPython.display import display, Markdown, clear_output\n",
    "\n",
    "# Introduction\n",
    "display(Markdown(\"### 👋 Bienvenue dans l'assistant de voyage intelligent (Ollama) !\"))\n",
    "display(Markdown(\"Je vais te poser quelques questions pour mieux cerner tes envies de voyage 🌍\"))\n",
    "\n",
    "# Questions en style conversationnel\n",
    "destination = widgets.Text(placeholder=\"ex : plage, montagne, ville...\", description=\"\")\n",
    "budget = widgets.Text(placeholder=\"ex : faible, 500€, moyen...\", description=\"\")\n",
    "dates = widgets.Text(placeholder=\"ex : du 15 au 22 juillet\", description=\"\")\n",
    "interets = widgets.Text(placeholder=\"ex : randonnée, musées, gastronomie...\", description=\"\")\n",
    "hebergement = widgets.Text(placeholder=\"ex : hôtel, auberge, logement insolite...\", description=\"\")\n",
    "compagnie = widgets.Text(placeholder=\"ex : seul, en couple, en famille...\", description=\"\")\n",
    "contraintes = widgets.Text(placeholder=\"ex : animaux, enfants, mobilité réduite...\", description=\"\")\n",
    "\n",
    "# Regrouper les widgets avec des instructions claires\n",
    "display(Markdown(\"**1. Quel type de destination préfères-tu ?** *(plage, montagne, ville, campagne...)*\"))\n",
    "display(destination)\n",
    "\n",
    "display(Markdown(\"**2. Quel est ton budget approximatif ?** *(faible, moyen, élevé, ou un montant)*\"))\n",
    "display(budget)\n",
    "\n",
    "display(Markdown(\"**3. À quelles dates veux-tu partir ?**\"))\n",
    "display(dates)\n",
    "\n",
    "display(Markdown(\"**4. Quelles activités t’intéressent ?** *(randonnée, culture, détente...)*\"))\n",
    "display(interets)\n",
    "\n",
    "display(Markdown(\"**5. Quel type d’hébergement préfères-tu ?**\"))\n",
    "display(hebergement)\n",
    "\n",
    "display(Markdown(\"**6. Avec qui voyages-tu ?** *(seul, en couple, en famille, entre amis...)*\"))\n",
    "display(compagnie)\n",
    "\n",
    "display(Markdown(\"**7. As-tu des contraintes particulières ?** *(enfants, animaux, santé...)*\"))\n",
    "display(contraintes)\n",
    "\n",
    "# Bouton de validation\n",
    "bouton = widgets.Button(description=\"✨ Générer ma recommandation (Ollama) ✈️\")\n",
    "\n",
    "# Fonction au clic\n",
    "def on_button_clicked(b):\n",
    "    clear_output(wait=True)\n",
    "    display(Markdown(\"### ✈️ Génération de ta recommandation...\"))\n",
    "\n",
    "    profil = f\"\"\"\n",
    "    Type de destination : {destination.value}\n",
    "    Budget : {budget.value}\n",
    "    Dates : {dates.value}\n",
    "    Centres d’intérêt : {interets.value}\n",
    "    Hébergement souhaité : {hebergement.value}\n",
    "    Compagnie : {compagnie.value}\n",
    "    Contraintes : {contraintes.value}\n",
    "    \"\"\"\n",
    "\n",
    "    prompt = f\"\"\"\n",
    "Voici un profil utilisateur :\n",
    "{profil}\n",
    "\n",
    "Tu dois recommander :\n",
    "- une destination\n",
    "- un itinéraire (si possible)\n",
    "- 2 ou 3 activités principales\n",
    "- des suggestions d’hébergement\n",
    "- une justification de tes choix\n",
    "- des options alternatives (budget/premium) si pertinent\n",
    "\n",
    "Réponds en français.\n",
    "\"\"\"\n",
    "\n",
    "    payload = {\n",
    "        \"model\": \"llama3\",  # ou mistral, ou phi, selon ce que tu as téléchargé avec Ollama\n",
    "        \"prompt\": prompt,\n",
    "        \"stream\": False\n",
    "    }\n",
    "\n",
    "    try:\n",
    "        response = requests.post(\"http://localhost:11434/api/generate\", json=payload)\n",
    "        response.raise_for_status()\n",
    "        result = response.json()[\"response\"]\n",
    "        display(Markdown(\"### ✅ Recommandation générée par Ollama :\"))\n",
    "        display(Markdown(f\"```\\n{result}\\n```\"))\n",
    "\n",
    "    except Exception as e:\n",
    "        display(Markdown(\"❌ **Erreur lors de l'appel à Ollama :**\"))\n",
    "        print(e)\n",
    "\n",
    "# Attacher la fonction au bouton\n",
    "bouton.on_click(on_button_clicked)\n",
    "display(bouton)"
   ]
  }
 ],
 "metadata": {
  "kernelspec": {
   "display_name": "Python 3",
   "language": "python",
   "name": "python3"
  },
  "language_info": {
   "codemirror_mode": {
    "name": "ipython",
    "version": 3
   },
   "file_extension": ".py",
   "mimetype": "text/x-python",
   "name": "python",
   "nbconvert_exporter": "python",
   "pygments_lexer": "ipython3",
   "version": "3.13.0"
  }
 },
 "nbformat": 4,
 "nbformat_minor": 2
}
