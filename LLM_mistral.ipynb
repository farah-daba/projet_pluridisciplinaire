{
 "cells": [
  {
   "cell_type": "code",
   "execution_count": 1,
   "metadata": {},
   "outputs": [],
   "source": [
    "import os\n",
    "import json\n",
    "import httpx\n",
    "from dotenv import load_dotenv\n",
    "\n",
    "# Charger la clé depuis le fichier .env\n",
    "load_dotenv()\n",
    "api_key = os.getenv(\"MISTRAL_API_KEY\")\n",
    "\n",
    "# Préparer la requête\n",
    "url = \"https://api.mistral.ai/v1/chat/completions\""
   ]
  },
  {
   "cell_type": "code",
   "execution_count": 2,
   "metadata": {},
   "outputs": [
    {
     "name": "stdout",
     "output_type": "stream",
     "text": [
      "✅ Réponse :\n",
      "Bonjour, c'est un plaisir de vous rencontrer. Comment ça va? (Hello, it's a pleasure to meet you. How are you?)\n"
     ]
    }
   ],
   "source": [
    "headers = {\n",
    "    \"Authorization\": f\"Bearer {api_key}\",\n",
    "    \"Content-Type\": \"application/json\"\n",
    "}\n",
    "\n",
    "payload = {\n",
    "    \"model\": \"mistral-tiny\",\n",
    "    \"messages\": [\n",
    "        {\"role\": \"user\", \"content\": \"Dis bonjour en français\"}\n",
    "    ],\n",
    "    \"temperature\": 0.7,\n",
    "    \"max_tokens\": 100\n",
    "}\n",
    "\n",
    "# Envoi de la requête\n",
    "try:\n",
    "    response = httpx.post(url, headers=headers, data=json.dumps(payload), timeout=15)\n",
    "    result = response.json()\n",
    "    print(\"✅ Réponse :\")\n",
    "    print(result[\"choices\"][0][\"message\"][\"content\"])\n",
    "\n",
    "except Exception as e:\n",
    "    print(\"❌ Erreur lors de l'appel à Mistral :\")\n",
    "    print(e)\n"
   ]
  },
  {
   "cell_type": "code",
   "execution_count": 3,
   "metadata": {},
   "outputs": [
    {
     "data": {
      "text/markdown": [
       "### ✈️ Génération de ta recommandation..."
      ],
      "text/plain": [
       "<IPython.core.display.Markdown object>"
      ]
     },
     "metadata": {},
     "output_type": "display_data"
    },
    {
     "data": {
      "text/markdown": [
       "### ✅ Recommandation générée :"
      ],
      "text/plain": [
       "<IPython.core.display.Markdown object>"
      ]
     },
     "metadata": {},
     "output_type": "display_data"
    },
    {
     "data": {
      "text/markdown": [
       "```\n",
       "Destination : Juras mountains en France\n",
       "\n",
       "Les Juras sont une région montagneuse située dans l'est de la France, parfaitement adaptée à votre profil de voyageur. Ce massif offre de belles randonnées pédestres adaptées au niveau de difficulté que vous souhaitez, en même temps que des paysages magnifiques.\n",
       "\n",
       "Itinéraire :\n",
       "\n",
       "* Jour 1 : Arrivée à la gare de Lons-le-Saunier ou à l'aéroport de Genève, puis transfert vers votre chalet situé dans les environs de Champagnole.\n",
       "* Jour 2 à 6 : De belles randonnées quotidiennes, découvrez les lacs de Chalain, les cascades de la rivière Loue, le col des Rousses et le lac de Saint-Point.\n",
       "* Jour 7 : Détente et visite du Château de Joux.\n",
       "* Jour 8 à 9 : Continuez à explorer d'autres sentiers de randonnée voire une excursion en VTT dans les environs.\n",
       "* Jour 10 : Transfert vers l'aéroport ou la gare de Lons-le-Saunier pour votre retour.\n",
       "\n",
       "Activités principales :\n",
       "\n",
       "* Randonnées pédestres\n",
       "* Visite du Château de Joux\n",
       "* VTT\n",
       "\n",
       "Hébergement :\n",
       "\n",
       "* Le Chalet L'Escale (https://www.chalet-lescales.fr/) - chalet de 4 personnes, offrant des vues imprenables sur les montagnes. Il est situé à 3 km du centre-ville de Champagnole, à 15 min à pied.\n",
       "* Le Chalet du Mont-Verd (https://www.lechaletdumontverd.fr/) - chalet de 4 personnes, situé à 8 km de Champagnole et offrant des vues sur les montagnes du Jura.\n",
       "\n",
       "Justification de mes choix :\n",
       "Les Juras sont une région montagneuse proche, facile d'accès et offrant des randonnées adaptées à tous les niveaux. De plus, en été, les journées sont claires et longues, ce qui permettra de profiter au maximum de ces belles montagnes. Le chalet est un hébergement très adapté pour votre séjour en couple et les animaux sont autorisés.\n",
       "\n",
       "Options alternatives :\n",
       "\n",
       "* Budget : Pour un budget plus faible, vous pouvez réserver un gîte d'étape dans le massif des Vosges ou une chambre d'hôtel à Lons-le-Saunier.\n",
       "* Premium : Pour un voyage plus luxueux, vous pouvez réserver un chalet de montagne plus grand ou un hôtel de luxe à l'entrée du massif des Juras.\n",
       "```"
      ],
      "text/plain": [
       "<IPython.core.display.Markdown object>"
      ]
     },
     "metadata": {},
     "output_type": "display_data"
    }
   ],
   "source": [
    "import os\n",
    "import json\n",
    "import httpx\n",
    "from dotenv import load_dotenv\n",
    "import ipywidgets as widgets\n",
    "from IPython.display import display, Markdown, clear_output\n",
    "\n",
    "# Charger la clé API\n",
    "load_dotenv()\n",
    "api_key = os.getenv(\"MISTRAL_API_KEY\")\n",
    "url = \"https://api.mistral.ai/v1/chat/completions\"\n",
    "headers = {\n",
    "    \"Authorization\": f\"Bearer {api_key}\",\n",
    "    \"Content-Type\": \"application/json\"\n",
    "}\n",
    "\n",
    "# Introduction\n",
    "display(Markdown(\"### 👋 Bienvenue dans l'assistant de voyage intelligent !\"))\n",
    "display(Markdown(\"Je vais te poser quelques questions pour mieux cerner tes envies de voyage 🌍\"))\n",
    "\n",
    "# Questions en style conversationnel\n",
    "destination = widgets.Text(placeholder=\"ex : plage, montagne, ville...\", description=\"\")\n",
    "budget = widgets.Text(placeholder=\"ex : faible, 500€, moyen...\", description=\"\")\n",
    "dates = widgets.Text(placeholder=\"ex : du 15 au 22 juillet\", description=\"\")\n",
    "duree = widgets.Text(placeholder=\"ex : 7 jours\", description=\"\")\n",
    "interets = widgets.Text(placeholder=\"ex : randonnée, musées, gastronomie...\", description=\"\")\n",
    "hebergement = widgets.Text(placeholder=\"ex : hôtel, auberge, logement insolite...\", description=\"\")\n",
    "compagnie = widgets.Text(placeholder=\"ex : seul, en couple, en famille...\", description=\"\")\n",
    "contraintes = widgets.Text(placeholder=\"ex : animaux, enfants, mobilité réduite...\", description=\"\")\n",
    "\n",
    "# Regrouper les widgets avec des instructions claires\n",
    "display(Markdown(\"**1. Quel type de destination préfères-tu ?** *(plage, montagne, ville, campagne...)*\"))\n",
    "display(destination)\n",
    "\n",
    "display(Markdown(\"**2. Quel est ton budget approximatif ?** *(faible, moyen, élevé, ou un montant)*\"))\n",
    "display(budget)\n",
    "\n",
    "display(Markdown(\"**3. À quelles dates veux-tu partir ?**\"))\n",
    "display(dates)\n",
    "\n",
    "display(Markdown(\"**4. Pour combien de temps ?** *(en jours)*\"))\n",
    "display(duree)\n",
    "\n",
    "display(Markdown(\"**5. Quelles activités t’intéressent ?** *(randonnée, culture, détente...)*\"))\n",
    "display(interets)\n",
    "\n",
    "display(Markdown(\"**6. Quel type d’hébergement préfères-tu ?**\"))\n",
    "display(hebergement)\n",
    "\n",
    "display(Markdown(\"**7. Avec qui voyages-tu ?** *(seul, en couple, en famille, entre amis...)*\"))\n",
    "display(compagnie)\n",
    "\n",
    "display(Markdown(\"**8. As-tu des contraintes particulières ?** *(enfants, animaux, santé...)*\"))\n",
    "display(contraintes)\n",
    "\n",
    "# Bouton de validation\n",
    "bouton = widgets.Button(description=\"✨ Générer ma recommandation ✈️\")\n",
    "\n",
    "# Fonction au clic\n",
    "def on_button_clicked(b):\n",
    "    clear_output(wait=True)\n",
    "    display(Markdown(\"### ✈️ Génération de ta recommandation...\"))\n",
    "\n",
    "    profil = f\"\"\"\n",
    "    Type de destination : {destination.value}\n",
    "    Budget : {budget.value}\n",
    "    Dates : {dates.value}\n",
    "    Durée : {duree.value} jours\n",
    "    Centres d’intérêt : {interets.value}\n",
    "    Hébergement souhaité : {hebergement.value}\n",
    "    Compagnie : {compagnie.value}\n",
    "    Contraintes : {contraintes.value}\n",
    "    \"\"\"\n",
    "\n",
    "    prompt = f\"\"\"\n",
    "Voici un profil utilisateur :\n",
    "{profil}\n",
    "\n",
    "Tu dois recommander :\n",
    "- une destination\n",
    "- un itinéraire (si possible)\n",
    "- 2 ou 3 activités principales\n",
    "- des suggestions d’hébergement\n",
    "- une justification de tes choix\n",
    "- des options alternatives (budget/premium) si pertinent\n",
    "\n",
    "Réponds en français.\n",
    "\"\"\"\n",
    "\n",
    "    payload = {\n",
    "        \"model\": \"mistral-tiny\",\n",
    "        \"messages\": [\n",
    "            {\"role\": \"system\", \"content\": \"Tu es un assistant de voyage expert.\"},\n",
    "            {\"role\": \"user\", \"content\": prompt}\n",
    "        ],\n",
    "        \"temperature\": 0.8,\n",
    "        \"max_tokens\": 700\n",
    "    }\n",
    "\n",
    "    try:\n",
    "        response = httpx.post(url, headers=headers, data=json.dumps(payload), timeout=30)\n",
    "        result = response.json()\n",
    "        display(Markdown(\"### ✅ Recommandation générée :\"))\n",
    "        display(Markdown(f\"```\\n{result['choices'][0]['message']['content']}\\n```\"))\n",
    "\n",
    "    except Exception as e:\n",
    "        display(Markdown(\"❌ **Erreur lors de l'appel à Mistral :**\"))\n",
    "        print(e)\n",
    "\n",
    "# Attacher la fonction au bouton\n",
    "bouton.on_click(on_button_clicked)\n",
    "display(bouton)"
   ]
  }
 ],
 "metadata": {
  "kernelspec": {
   "display_name": "base",
   "language": "python",
   "name": "python3"
  },
  "language_info": {
   "codemirror_mode": {
    "name": "ipython",
    "version": 3
   },
   "file_extension": ".py",
   "mimetype": "text/x-python",
   "name": "python",
   "nbconvert_exporter": "python",
   "pygments_lexer": "ipython3",
   "version": "3.12.7"
  }
 },
 "nbformat": 4,
 "nbformat_minor": 2
}
