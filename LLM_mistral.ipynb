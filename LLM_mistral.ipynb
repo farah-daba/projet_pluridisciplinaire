{
 "cells": [
  {
   "cell_type": "markdown",
   "metadata": {},
   "source": [
    "### PARTIE QUESTIONS DETAILLEES"
   ]
  },
  {
   "cell_type": "code",
   "execution_count": 11,
   "metadata": {},
   "outputs": [],
   "source": [
    "import os\n",
    "import json\n",
    "import httpx\n",
    "from dotenv import load_dotenv\n",
    "\n",
    "# Charger la clé depuis le fichier .env\n",
    "load_dotenv()\n",
    "api_key = os.getenv(\"MISTRAL_API_KEY\")\n",
    "\n",
    "# Préparer la requête\n",
    "url = \"https://api.mistral.ai/v1/chat/completions\""
   ]
  },
  {
   "cell_type": "code",
   "execution_count": 12,
   "metadata": {},
   "outputs": [
    {
     "name": "stdout",
     "output_type": "stream",
     "text": [
      "✅ Réponse :\n",
      "❌ Erreur lors de l'appel à Mistral :\n",
      "'choices'\n"
     ]
    }
   ],
   "source": [
    "headers = {\n",
    "    \"Authorization\": f\"Bearer {api_key}\",\n",
    "    \"Content-Type\": \"application/json\"\n",
    "}\n",
    "\n",
    "payload = {\n",
    "    \"model\": \"mistral-tiny\",\n",
    "    \"messages\": [\n",
    "        {\"role\": \"user\", \"content\": \"Dis bonjour en français\"}\n",
    "    ],\n",
    "    \"temperature\": 0.7,\n",
    "    \"max_tokens\": 100\n",
    "}\n",
    "\n",
    "# Envoi de la requête\n",
    "try:\n",
    "    response = httpx.post(url, headers=headers, data=json.dumps(payload), timeout=15)\n",
    "    result = response.json()\n",
    "    print(\"✅ Réponse :\")\n",
    "    print(result[\"choices\"][0][\"message\"][\"content\"])\n",
    "\n",
    "except Exception as e:\n",
    "    print(\"❌ Erreur lors de l'appel à Mistral :\")\n",
    "    print(e)\n"
   ]
  },
  {
   "cell_type": "code",
   "execution_count": 18,
   "metadata": {},
   "outputs": [
    {
     "data": {
      "text/markdown": [
       "### 👋 Bienvenue dans l'assistant de voyage intelligent !"
      ],
      "text/plain": [
       "<IPython.core.display.Markdown object>"
      ]
     },
     "metadata": {},
     "output_type": "display_data"
    },
    {
     "data": {
      "text/markdown": [
       "Je vais te poser quelques questions pour mieux cerner tes envies de voyage 🌍"
      ],
      "text/plain": [
       "<IPython.core.display.Markdown object>"
      ]
     },
     "metadata": {},
     "output_type": "display_data"
    },
    {
     "data": {
      "text/markdown": [
       "**1. Quel type de destination préfères-tu ?** *(plage, montagne, ville, campagne...)*"
      ],
      "text/plain": [
       "<IPython.core.display.Markdown object>"
      ]
     },
     "metadata": {},
     "output_type": "display_data"
    },
    {
     "data": {
      "application/vnd.jupyter.widget-view+json": {
       "model_id": "5b09941e0a114da0a77a921351116cb4",
       "version_major": 2,
       "version_minor": 0
      },
      "text/plain": [
       "Text(value='', placeholder='ex : plage, montagne, ville...')"
      ]
     },
     "metadata": {},
     "output_type": "display_data"
    },
    {
     "data": {
      "text/markdown": [
       "**2. Quel est ton budget approximatif ?** *(faible, moyen, élevé, ou un montant)*"
      ],
      "text/plain": [
       "<IPython.core.display.Markdown object>"
      ]
     },
     "metadata": {},
     "output_type": "display_data"
    },
    {
     "data": {
      "application/vnd.jupyter.widget-view+json": {
       "model_id": "ae2b13154e8043ab9a08c96869ad1585",
       "version_major": 2,
       "version_minor": 0
      },
      "text/plain": [
       "Text(value='', placeholder='ex : faible, 500€, moyen...')"
      ]
     },
     "metadata": {},
     "output_type": "display_data"
    },
    {
     "data": {
      "text/markdown": [
       "**3. À quelles dates veux-tu partir ?**"
      ],
      "text/plain": [
       "<IPython.core.display.Markdown object>"
      ]
     },
     "metadata": {},
     "output_type": "display_data"
    },
    {
     "data": {
      "application/vnd.jupyter.widget-view+json": {
       "model_id": "cb1ffaa793a04c18a1659c8e546ec0ac",
       "version_major": 2,
       "version_minor": 0
      },
      "text/plain": [
       "Text(value='', placeholder='ex : du 15 au 22 juillet')"
      ]
     },
     "metadata": {},
     "output_type": "display_data"
    },
    {
     "data": {
      "text/markdown": [
       "**4. Quelles activités t’intéressent ?** *(randonnée, culture, détente...)*"
      ],
      "text/plain": [
       "<IPython.core.display.Markdown object>"
      ]
     },
     "metadata": {},
     "output_type": "display_data"
    },
    {
     "data": {
      "application/vnd.jupyter.widget-view+json": {
       "model_id": "4dddd41e4c61427b9287f3ac009f5aae",
       "version_major": 2,
       "version_minor": 0
      },
      "text/plain": [
       "Text(value='', placeholder='ex : randonnée, musées, gastronomie...')"
      ]
     },
     "metadata": {},
     "output_type": "display_data"
    },
    {
     "data": {
      "text/markdown": [
       "**5. Quel type d’hébergement préfères-tu ?**"
      ],
      "text/plain": [
       "<IPython.core.display.Markdown object>"
      ]
     },
     "metadata": {},
     "output_type": "display_data"
    },
    {
     "data": {
      "application/vnd.jupyter.widget-view+json": {
       "model_id": "225aaa3efd3c40f084b0ae7c036c54d4",
       "version_major": 2,
       "version_minor": 0
      },
      "text/plain": [
       "Text(value='', placeholder='ex : hôtel, auberge, logement insolite...')"
      ]
     },
     "metadata": {},
     "output_type": "display_data"
    },
    {
     "data": {
      "text/markdown": [
       "**6. Avec qui voyages-tu ?** *(seul, en couple, en famille, entre amis...)*"
      ],
      "text/plain": [
       "<IPython.core.display.Markdown object>"
      ]
     },
     "metadata": {},
     "output_type": "display_data"
    },
    {
     "data": {
      "application/vnd.jupyter.widget-view+json": {
       "model_id": "940d28891508421faea06cb125e95019",
       "version_major": 2,
       "version_minor": 0
      },
      "text/plain": [
       "Text(value='', placeholder='ex : seul, en couple, en famille...')"
      ]
     },
     "metadata": {},
     "output_type": "display_data"
    },
    {
     "data": {
      "text/markdown": [
       "**7. As-tu des contraintes particulières ?** *(enfants, animaux, santé...)*"
      ],
      "text/plain": [
       "<IPython.core.display.Markdown object>"
      ]
     },
     "metadata": {},
     "output_type": "display_data"
    },
    {
     "data": {
      "application/vnd.jupyter.widget-view+json": {
       "model_id": "36ff8c81d9034281ae3a14dc6983e403",
       "version_major": 2,
       "version_minor": 0
      },
      "text/plain": [
       "Text(value='', placeholder='ex : animaux, enfants, mobilité réduite...')"
      ]
     },
     "metadata": {},
     "output_type": "display_data"
    },
    {
     "data": {
      "application/vnd.jupyter.widget-view+json": {
       "model_id": "58e20c6a3b6742f09eacf81597dd53ef",
       "version_major": 2,
       "version_minor": 0
      },
      "text/plain": [
       "Button(description='✨ Générer ma recommandation ✈️', style=ButtonStyle())"
      ]
     },
     "metadata": {},
     "output_type": "display_data"
    }
   ],
   "source": [
    "import os\n",
    "import json\n",
    "import httpx\n",
    "from dotenv import load_dotenv\n",
    "import ipywidgets as widgets\n",
    "from IPython.display import display, Markdown, clear_output\n",
    "\n",
    "# Charger la clé API\n",
    "load_dotenv()\n",
    "api_key = os.getenv(\"MISTRAL_API_KEY\")\n",
    "url = \"https://api.mistral.ai/v1/chat/completions\"\n",
    "headers = {\n",
    "    \"Authorization\": f\"Bearer {api_key}\",\n",
    "    \"Content-Type\": \"application/json\"\n",
    "}\n",
    "\n",
    "# Introduction\n",
    "display(Markdown(\"### 👋 Bienvenue dans l'assistant de voyage intelligent !\"))\n",
    "display(Markdown(\"Je vais te poser quelques questions pour mieux cerner tes envies de voyage 🌍\"))\n",
    "\n",
    "# Questions en style conversationnel\n",
    "destination = widgets.Text(placeholder=\"ex : plage, montagne, ville...\", description=\"\")\n",
    "budget = widgets.Text(placeholder=\"ex : faible, 500€, moyen...\", description=\"\")\n",
    "dates = widgets.Text(placeholder=\"ex : du 15 au 22 juillet\", description=\"\")\n",
    "interets = widgets.Text(placeholder=\"ex : randonnée, musées, gastronomie...\", description=\"\")\n",
    "hebergement = widgets.Text(placeholder=\"ex : hôtel, auberge, logement insolite...\", description=\"\")\n",
    "compagnie = widgets.Text(placeholder=\"ex : seul, en couple, en famille...\", description=\"\")\n",
    "contraintes = widgets.Text(placeholder=\"ex : animaux, enfants, mobilité réduite...\", description=\"\")\n",
    "\n",
    "# Regrouper les widgets avec des instructions claires\n",
    "display(Markdown(\"**1. Quel type de destination préfères-tu ?** *(plage, montagne, ville, campagne...)*\"))\n",
    "display(destination)\n",
    "\n",
    "display(Markdown(\"**2. Quel est ton budget approximatif ?** *(faible, moyen, élevé, ou un montant)*\"))\n",
    "display(budget)\n",
    "\n",
    "display(Markdown(\"**3. À quelles dates veux-tu partir ?**\"))\n",
    "display(dates)\n",
    "\n",
    "display(Markdown(\"**4. Quelles activités t’intéressent ?** *(randonnée, culture, détente...)*\"))\n",
    "display(interets)\n",
    "\n",
    "display(Markdown(\"**5. Quel type d’hébergement préfères-tu ?**\"))\n",
    "display(hebergement)\n",
    "\n",
    "display(Markdown(\"**6. Avec qui voyages-tu ?** *(seul, en couple, en famille, entre amis...)*\"))\n",
    "display(compagnie)\n",
    "\n",
    "display(Markdown(\"**7. As-tu des contraintes particulières ?** *(enfants, animaux, santé...)*\"))\n",
    "display(contraintes)\n",
    "\n",
    "# Bouton de validation\n",
    "bouton = widgets.Button(description=\"✨ Générer ma recommandation ✈️\")\n",
    "\n",
    "# Fonction au clic\n",
    "def on_button_clicked(b):\n",
    "    clear_output(wait=True)\n",
    "    display(Markdown(\"### ✈️ Génération de ta recommandation...\"))\n",
    "\n",
    "    profil = f\"\"\"\n",
    "    Type de destination : {destination.value}\n",
    "    Budget : {budget.value}\n",
    "    Dates : {dates.value}\n",
    "    Centres d’intérêt : {interets.value}\n",
    "    Hébergement souhaité : {hebergement.value}\n",
    "    Compagnie : {compagnie.value}\n",
    "    Contraintes : {contraintes.value}\n",
    "    \"\"\"\n",
    "\n",
    "    prompt = f\"\"\"\n",
    "Voici un profil utilisateur :\n",
    "{profil}\n",
    "\n",
    "Tu dois recommander :\n",
    "- une destination\n",
    "- un itinéraire (si possible)\n",
    "- 2 ou 3 activités principales\n",
    "- des suggestions d’hébergement\n",
    "- une justification de tes choix\n",
    "- des options alternatives (budget/premium) si pertinent\n",
    "\n",
    "Réponds en français.\n",
    "\"\"\"\n",
    "\n",
    "    payload = {\n",
    "        \"model\": \"mistral-tiny\",\n",
    "        \"messages\": [\n",
    "            {\"role\": \"system\", \"content\": \"Tu es un assistant de voyage expert.\"},\n",
    "            {\"role\": \"user\", \"content\": prompt}\n",
    "        ],\n",
    "        \"temperature\": 0.8,\n",
    "        \"max_tokens\": 700\n",
    "    }\n",
    "\n",
    "    try:\n",
    "        response = httpx.post(url, headers=headers, data=json.dumps(payload), timeout=30)\n",
    "        result = response.json()\n",
    "        display(Markdown(\"### ✅ Recommandation générée :\"))\n",
    "        display(Markdown(f\"```\\n{result['choices'][0]['message']['content']}\\n```\"))\n",
    "\n",
    "    except Exception as e:\n",
    "        display(Markdown(\"❌ **Erreur lors de l'appel à Mistral :**\"))\n",
    "        print(e)\n",
    "\n",
    "# Attacher la fonction au bouton\n",
    "bouton.on_click(on_button_clicked)\n",
    "display(bouton)\n"
   ]
  },
  {
   "cell_type": "markdown",
   "metadata": {},
   "source": [
    "### PARTIE NON GUIDEE"
   ]
  },
  {
   "cell_type": "markdown",
   "metadata": {},
   "source": [
    "Test Mistral (comparé à Ollama avec le même prompt) :"
   ]
  },
  {
   "cell_type": "code",
   "execution_count": 15,
   "metadata": {},
   "outputs": [
    {
     "name": "stdout",
     "output_type": "stream",
     "text": [
      "Pour une destination de voyage en mai pour une personne seule, qui apprécie la culture, les musées, la bonne nourriture et est à un budget moyen, je vous recommande Venise en Italie.\n",
      "\n",
      "Venise est une ville unique dans le monde, qui offre une expérience culturelle inoubliable. Elle est repleine de musées et de galeries d'art de grande qualité, dont le Museo Correr, le Museo di Palazzo Grassi et le Peggy Guggenheim Collection.\n",
      "\n",
      "En plus de ses musées, Venise est repleine de points de vue magnifiques, de places et de bâtiments historiques qui sont un plaisir à découvrir. La ville est repleine de petits restaurants et de trattorias qui offrent une cuisine délicieuse, dont la spaghetti à la vongole, le risotto à la gorgonzola et le polenta aux champignons.\n",
      "\n",
      "En outre, Venise est une ville qui se découvre à pied et en gondole, ce qui en fait une expérience unique. Le budget moyen devrait couvrir les frais de logement, de déplacements, de musées et de repas.\n",
      "\n",
      "Je vous souhaite un excellent voyage et une expérience inoubliable à Venise!\n"
     ]
    }
   ],
   "source": [
    "import os\n",
    "import json\n",
    "import httpx\n",
    "from dotenv import load_dotenv\n",
    "\n",
    "# Charger la clé API une seule fois au démarrage du script\n",
    "load_dotenv()\n",
    "api_key = os.getenv(\"MISTRAL_API_KEY\")\n",
    "\n",
    "def get_recommendation_from_mistral(prompt, model=\"mistral-tiny\"):\n",
    "    url = \"https://api.mistral.ai/v1/chat/completions\"\n",
    "    headers = {\n",
    "        \"Authorization\": f\"Bearer {api_key}\",\n",
    "        \"Content-Type\": \"application/json\"\n",
    "    }\n",
    "\n",
    "    payload = {\n",
    "        \"model\": model,\n",
    "        \"messages\": [\n",
    "            {\"role\": \"system\", \"content\": \"Tu es un assistant expert en voyages.\"},\n",
    "            {\"role\": \"user\", \"content\": prompt}\n",
    "        ],\n",
    "        \"temperature\": 0.8,\n",
    "        \"max_tokens\": 700\n",
    "    }\n",
    "\n",
    "    response = httpx.post(url, headers=headers, data=json.dumps(payload), timeout=30)\n",
    "    response.raise_for_status()\n",
    "    return response.json()['choices'][0]['message']['content']\n",
    "\n",
    "# Exemple de prompt\n",
    "prompt = \"\"\"Je cherche une destination de voyage pour une personne seule en mai,\n",
    "avec un budget moyen, qui aime la culture, les musées et la bonne nourriture.\"\"\"\n",
    "\n",
    "reponse = get_recommendation_from_mistral(prompt)\n",
    "print(reponse)"
   ]
  }
 ],
 "metadata": {
  "kernelspec": {
   "display_name": "base",
   "language": "python",
   "name": "python3"
  },
  "language_info": {
   "codemirror_mode": {
    "name": "ipython",
    "version": 3
   },
   "file_extension": ".py",
   "mimetype": "text/x-python",
   "name": "python",
   "nbconvert_exporter": "python",
   "pygments_lexer": "ipython3",
   "version": "3.13.0"
  }
 },
 "nbformat": 4,
 "nbformat_minor": 2
}
